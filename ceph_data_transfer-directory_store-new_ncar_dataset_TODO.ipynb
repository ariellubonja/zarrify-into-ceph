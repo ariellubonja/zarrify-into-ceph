{
 "cells": [
  {
   "cell_type": "code",
   "execution_count": 1,
   "id": "0ce2a96b",
   "metadata": {
    "execution": {
     "iopub.execute_input": "2024-12-07T03:45:40.355864Z",
     "iopub.status.busy": "2024-12-07T03:45:40.355227Z",
     "iopub.status.idle": "2024-12-07T03:45:40.389884Z",
     "shell.execute_reply": "2024-12-07T03:45:40.387581Z",
     "shell.execute_reply.started": "2024-12-07T03:45:40.355737Z"
    },
    "tags": []
   },
   "outputs": [
    {
     "name": "stdout",
     "output_type": "stream",
     "text": [
      "/home/idies/workspace/turbulence-ceph-staging/sciserver-turbulence\n"
     ]
    }
   ],
   "source": [
    "%cd /home/idies/workspace/turbulence-ceph-staging/sciserver-turbulence"
   ]
  },
  {
   "cell_type": "code",
   "execution_count": 2,
   "id": "5915ec1e",
   "metadata": {
    "execution": {
     "iopub.execute_input": "2024-12-07T03:45:40.394838Z",
     "iopub.status.busy": "2024-12-07T03:45:40.394279Z",
     "iopub.status.idle": "2024-12-07T03:45:40.404545Z",
     "shell.execute_reply": "2024-12-07T03:45:40.402571Z",
     "shell.execute_reply.started": "2024-12-07T03:45:40.394786Z"
    },
    "tags": []
   },
   "outputs": [],
   "source": [
    "import os\n",
    "\n",
    "NCAR_JHF_BASE_PATH = '/home/idies/workspace/turbulence-ceph-staging/ncar-jhf'\n",
    "\n",
    "NCAR_JHF_HR_PATH = os.path.join(NCAR_JHF_BASE_PATH, 'hr')\n",
    "NCAR_JHF_LR_PATH = os.path.join(NCAR_JHF_BASE_PATH, 'lr')\n",
    "\n",
    "NCAR_FILES_EXTENSION = '.nc'"
   ]
  },
  {
   "cell_type": "code",
   "execution_count": 3,
   "id": "121c5ce8",
   "metadata": {
    "execution": {
     "iopub.execute_input": "2024-12-07T03:45:40.406997Z",
     "iopub.status.busy": "2024-12-07T03:45:40.406457Z",
     "iopub.status.idle": "2024-12-07T03:45:40.889169Z",
     "shell.execute_reply": "2024-12-07T03:45:40.886593Z",
     "shell.execute_reply.started": "2024-12-07T03:45:40.406947Z"
    },
    "tags": []
   },
   "outputs": [],
   "source": [
    "\"\"\"\n",
    "import packages\n",
    "\"\"\"\n",
    "import os\n",
    "import sys\n",
    "import zarr\n",
    "import itertools\n",
    "import contextlib\n",
    "import numpy as np\n",
    "from tqdm.auto import tqdm\n",
    "from zarr.storage import DirectoryStore\n",
    "from concurrent.futures import ThreadPoolExecutor, ProcessPoolExecutor"
   ]
  },
  {
   "cell_type": "code",
   "execution_count": 4,
   "id": "5ac46e68-bb3c-4b1b-a0e2-96b6dcd0c25c",
   "metadata": {
    "execution": {
     "iopub.execute_input": "2024-12-07T03:45:40.892609Z",
     "iopub.status.busy": "2024-12-07T03:45:40.891759Z",
     "iopub.status.idle": "2024-12-07T03:45:40.904142Z",
     "shell.execute_reply": "2024-12-07T03:45:40.901238Z",
     "shell.execute_reply.started": "2024-12-07T03:45:40.892552Z"
    },
    "tags": []
   },
   "outputs": [],
   "source": [
    "\"\"\"\n",
    "parameters\n",
    "\"\"\"\n",
    "dataset_title = 'stsabl2048high'\n",
    "store_path = f\"/home/idies/workspace/turbulence-ceph-staging/sciserver-turbulence/{dataset_title}/{dataset_title}.zarr\"\n",
    "store = DirectoryStore(store_path, dimension_separator = '/')\n",
    "# time offset from 0 when querying the dataset with giverny.\n",
    "time_offset = 1\n",
    "# offset from the first time chunk to write data into the zarr store on ceph.\n",
    "# if this value = 0, that means time 0 is written to the zarr time chunk folder = 0.\n",
    "# if this value = 1, that means time 0 is written to the zarr time chunk folder = 1. this is needed to keep a placeholder time chunk folder for pchip interpolation\n",
    "# because the precursor time cannot be read by giverny getCutout and will have to be read and written manually.\n",
    "time_ceph_offset = 0"
   ]
  },
  {
   "cell_type": "code",
   "execution_count": 5,
   "id": "66cf3164-8b96-4a08-9274-38f9f4e97c25",
   "metadata": {
    "execution": {
     "iopub.execute_input": "2024-12-07T03:45:40.907315Z",
     "iopub.status.busy": "2024-12-07T03:45:40.906733Z",
     "iopub.status.idle": "2024-12-07T03:45:40.916432Z",
     "shell.execute_reply": "2024-12-07T03:45:40.914405Z",
     "shell.execute_reply.started": "2024-12-07T03:45:40.907263Z"
    },
    "tags": []
   },
   "outputs": [],
   "source": [
    "# xyz and time dimensions for the full dataset including times for pchip interpolation that cannot be read by giverny.\n",
    "xyzt_dims_full = [2048, 2048, 2048, 105]\n",
    "# xyz and time dimensions for the dataset to be read with giverny.\n",
    "xyzt_dims = [2048, 2048, 2048, 105]"
   ]
  },
  {
   "cell_type": "code",
   "execution_count": 6,
   "id": "bbeac63a-3f15-4860-972a-495253a457ca",
   "metadata": {
    "execution": {
     "iopub.execute_input": "2024-12-07T03:45:40.919749Z",
     "iopub.status.busy": "2024-12-07T03:45:40.919130Z",
     "iopub.status.idle": "2024-12-07T03:45:40.931951Z",
     "shell.execute_reply": "2024-12-07T03:45:40.929611Z",
     "shell.execute_reply.started": "2024-12-07T03:45:40.919700Z"
    },
    "tags": []
   },
   "outputs": [],
   "source": [
    "# xyz and time chunk sizes for the zarr store on ceph.\n",
    "xyzt_chunk_sizes = [64, 64, 64, 1]\n",
    "# xyz and time dimensions to query in parallel when reading from the legacy stores.\n",
    "xyzt_filedb_file_dims = np.array([512, 512, 512, 1])\n",
    "# use the default stride value of 1 for each axis when using giverny to retrieve a cutout of the data.\n",
    "strides = [1, 1, 1]\n",
    "# map the zarr group variables to the number of values stored for each grid point.\n",
    "zarr_groups = {\n",
    "    'velocity': 3,\n",
    "    'pressure': 1,\n",
    "    'temperature': 1,\n",
    "    'energy': 1\n",
    "}\n",
    "zarr_variables = list(zarr_groups.keys())\n",
    "num_variables = len(zarr_variables)\n",
    "# number of workers to read in parallel.\n",
    "# Keep this under 4, this reads 50GB per worker per worker\n",
    "num_workers = 4\n",
    "# maximum number of retries in case of an error.\n",
    "max_retries = 4\n",
    "# output path for writing the report text file.\n",
    "output_path = os.path.join('/home/idies/workspace/turbulence-ceph-staging/sciserver-turbulence/reports/', dataset_title)"
   ]
  },
  {
   "cell_type": "markdown",
   "id": "2a2454ea-aac1-43dd-9337-b33c5f4f9ec4",
   "metadata": {},
   "source": [
    "### Make sure to disable this if just verifying data"
   ]
  },
  {
   "cell_type": "code",
   "execution_count": 13,
   "id": "44d825bc-3916-4f37-bf0e-1a648dafaaf7",
   "metadata": {
    "execution": {
     "iopub.execute_input": "2024-12-07T03:46:03.634877Z",
     "iopub.status.busy": "2024-12-07T03:46:03.633958Z",
     "iopub.status.idle": "2024-12-07T03:46:03.908979Z",
     "shell.execute_reply": "2024-12-07T03:46:03.905786Z",
     "shell.execute_reply.started": "2024-12-07T03:46:03.634817Z"
    },
    "tags": []
   },
   "outputs": [],
   "source": [
    "!mv /home/idies/workspace/turbulence-ceph-staging/sciserver-turbulence/stsabl2048high /home/idies/workspace/turbulence-ceph-staging/sciserver-turbulence/stsabl2048high_OLD3"
   ]
  },
  {
   "cell_type": "code",
   "execution_count": 14,
   "id": "1018e21f",
   "metadata": {
    "execution": {
     "iopub.execute_input": "2024-12-07T03:46:05.187088Z",
     "iopub.status.busy": "2024-12-07T03:46:05.186198Z",
     "iopub.status.idle": "2024-12-07T03:46:06.712682Z",
     "shell.execute_reply": "2024-12-07T03:46:06.710434Z",
     "shell.execute_reply.started": "2024-12-07T03:46:05.187020Z"
    },
    "tags": []
   },
   "outputs": [
    {
     "name": "stdin",
     "output_type": "stream",
     "text": [
      "Are you sure you want to overwrite everything? (y/n):  y\n"
     ]
    },
    {
     "name": "stdout",
     "output_type": "stream",
     "text": [
      "zarr store created.\n",
      "-\n"
     ]
    }
   ],
   "source": [
    "\"\"\"\n",
    "create the zarr store\n",
    "\"\"\"\n",
    "def create_zarr_store(store, xyzt_dims_full, xyzt_chunk_sizes, zarr_groups):\n",
    "    dt = np.dtype(np.float32)\n",
    "    dt = dt.newbyteorder('<')\n",
    "    \n",
    "    # create the zarr store.\n",
    "    root = zarr.group(store = store, overwrite = True, synchronizer = None)\n",
    "    \n",
    "    # create the zarr group for each variable.\n",
    "    for variable_name in zarr_groups:\n",
    "        zarr_dims = zarr_groups[variable_name]\n",
    "        \n",
    "        zarr_group = root.zeros(variable_name, shape = (xyzt_dims_full[3], xyzt_dims_full[2], xyzt_dims_full[1], xyzt_dims_full[0], zarr_dims), \n",
    "                                chunks = (xyzt_chunk_sizes[3], xyzt_chunk_sizes[2], xyzt_chunk_sizes[1], xyzt_chunk_sizes[0], zarr_dims), \n",
    "                                dtype = dt, compressor = None)\n",
    "    \n",
    "    print('zarr store created.')\n",
    "    print('-')\n",
    "    sys.stdout.flush()\n",
    "\n",
    "    \n",
    "def confirm_overwrite():\n",
    "    while True:\n",
    "        response = input(\"Are you sure you want to overwrite everything? (y/n): \").strip().lower()\n",
    "        if response in ('y', 'n'):\n",
    "            return response == 'y'  # Returns True for 'y', False for 'n'\n",
    "        print(\"Invalid input. Please enter 'y' or 'n'.\")\n",
    "\n",
    "if confirm_overwrite():\n",
    "    create_zarr_store(store, xyzt_dims_full, xyzt_chunk_sizes, zarr_groups)\n",
    "else:\n",
    "    print(\"Operation canceled.\")"
   ]
  },
  {
   "cell_type": "code",
   "execution_count": 15,
   "id": "a2b0e62f",
   "metadata": {
    "execution": {
     "iopub.execute_input": "2024-12-07T03:46:09.624761Z",
     "iopub.status.busy": "2024-12-07T03:46:09.623908Z",
     "iopub.status.idle": "2024-12-07T03:46:09.639427Z",
     "shell.execute_reply": "2024-12-07T03:46:09.636580Z",
     "shell.execute_reply.started": "2024-12-07T03:46:09.624703Z"
    },
    "tags": []
   },
   "outputs": [],
   "source": [
    "import dask.array as da\n",
    "\n",
    "def merge_velocities(transposed_ds, chunk_size_base=64):\n",
    "    \"\"\"\n",
    "        Merge the 3 velocity components/directions - such merging\n",
    "        exhibits faster 3-component reads. This is a Dask lazy\n",
    "         computation\n",
    "    \"\"\"\n",
    "\n",
    "    # Merge Velocities into 1\n",
    "    b = da.stack([transposed_ds['u'], transposed_ds['v'], transposed_ds['w']], axis=3)\n",
    "    b = b.squeeze()  # It should be (2048, 2048, 2048, 3, 1) before this. Use (2048, 2048, 2048, 3)\n",
    "    # Make into correct chunk sizes\n",
    "    b = b.rechunk((chunk_size_base, chunk_size_base, chunk_size_base, 3))  # Dask chooses (64,64,64,1)\n",
    "    result = transposed_ds.drop_vars(['u', 'v', 'w'])  # Drop individual velocities\n",
    "\n",
    "    # Add joined velocity to original group\n",
    "    # Can't make the dim name same as scalars\n",
    "    result['velocity'] = xr.DataArray(b, dims=(\n",
    "        'nnz', 'nny', 'nnx', 'velocity component (xyz)'))\n",
    "\n",
    "    return result"
   ]
  },
  {
   "cell_type": "code",
   "execution_count": 16,
   "id": "10da7102-a14c-4fb1-9b3d-10e9250a9c09",
   "metadata": {
    "execution": {
     "iopub.execute_input": "2024-12-07T03:46:09.805186Z",
     "iopub.status.busy": "2024-12-07T03:46:09.804336Z",
     "iopub.status.idle": "2024-12-07T03:46:09.815086Z",
     "shell.execute_reply": "2024-12-07T03:46:09.812972Z",
     "shell.execute_reply.started": "2024-12-07T03:46:09.805129Z"
    },
    "tags": []
   },
   "outputs": [],
   "source": [
    "from giverny.turbulence_dataset import *\n",
    "from giverny.turbulence_toolkit import *"
   ]
  },
  {
   "cell_type": "code",
   "execution_count": 17,
   "id": "c3f961ab-cd78-4565-b66e-4f6fb5f09bf2",
   "metadata": {
    "execution": {
     "iopub.execute_input": "2024-12-07T03:46:10.166308Z",
     "iopub.status.busy": "2024-12-07T03:46:10.165470Z",
     "iopub.status.idle": "2024-12-07T03:46:10.180097Z",
     "shell.execute_reply": "2024-12-07T03:46:10.177904Z",
     "shell.execute_reply.started": "2024-12-07T03:46:10.166250Z"
    },
    "tags": []
   },
   "outputs": [],
   "source": [
    "import re\n",
    "\n",
    "def select_file(folder_path, timestep, file_acronym='jhf'):\n",
    "    file_list = os.listdir(folder_path)\n",
    "\n",
    "    for filename in file_list:   \n",
    "        # Extract the number from the filename using a more specific regular expression\n",
    "        match = re.search(file_acronym+r'\\.(\\d+)\\.nc', filename)\n",
    "        if match:\n",
    "            file_timestep = int(match.group(1))\n",
    "            if file_timestep == timestep:\n",
    "                # Return full paths\n",
    "                return os.path.join(folder_path, filename)\n",
    "    # If no file is found, raise an exception\n",
    "    raise FileNotFoundError(f\"No file found for timestep {timestep}\")"
   ]
  },
  {
   "cell_type": "code",
   "execution_count": null,
   "id": "dcade330",
   "metadata": {
    "execution": {
     "iopub.execute_input": "2024-12-07T03:46:11.310677Z",
     "iopub.status.busy": "2024-12-07T03:46:11.309809Z"
    },
    "tags": []
   },
   "outputs": [
    {
     "data": {
      "application/vnd.jupyter.widget-view+json": {
       "model_id": "245a3f629d664f7e93562f561c70540b",
       "version_major": 2,
       "version_minor": 0
      },
      "text/plain": [
       "chunks completed:   0%|          | 0/64 [00:00<?, ?it/s]"
      ]
     },
     "metadata": {},
     "output_type": "display_data"
    },
    {
     "data": {
      "application/vnd.jupyter.widget-view+json": {
       "model_id": "47e4dfb1aa9b489ea06f8ac59b4f8969",
       "version_major": 2,
       "version_minor": 0
      },
      "text/plain": [
       "time:   0%|          | 0/105 [00:00<?, ?it/s]"
      ]
     },
     "metadata": {},
     "output_type": "display_data"
    }
   ],
   "source": [
    "\"\"\"\n",
    "read JHTDB datasets from fileDB using giverny and then write to a zarr store on ceph\n",
    "\"\"\"\n",
    "import xarray as xr\n",
    "import traceback\n",
    "import dask\n",
    "\n",
    "# open the zarr store using DirectoryStore.\n",
    "root = zarr.open(store, mode = 'a')\n",
    "\n",
    "def process_cube(coords):\n",
    "    try:\n",
    "        \"\"\"\n",
    "        TODO : Ariel change code here for reading in the new NCAR data without giverny.\n",
    "        \"\"\"\n",
    "        \n",
    "        # Initialize dataset and open zarr store.\n",
    "        # TODO Need to replace the hard-coded file with timestep-based filename\n",
    "        timestep = coords[3]\n",
    "        # print(\"full filepath: \", select_file(NCAR_JHF_LR_PATH, timestep))\n",
    "        data_xr = xr.open_dataset(select_file(NCAR_JHF_LR_PATH, timestep),\n",
    "                                  chunks={'nnz': xyzt_filedb_file_dims[2],\n",
    "                                          'nny': xyzt_filedb_file_dims[1],\n",
    "                                          'nnx': xyzt_filedb_file_dims[0]})\n",
    "    \n",
    "        assert isinstance(data_xr['e'].data, dask.array.core.Array)\n",
    "        \n",
    "                # Unpack cube coordinates\n",
    "        i, j, k = coords[:3]  # i: X-index, j: Y-index, k: Z-index\n",
    "\n",
    "        # Chunk sizes for each dimension\n",
    "        chunk_sizes = {\n",
    "            'nnx': xyzt_filedb_file_dims[0],\n",
    "            'nny': xyzt_filedb_file_dims[1],\n",
    "            'nnz': xyzt_filedb_file_dims[2],\n",
    "        }\n",
    "\n",
    "        # Construct the selection dictionary\n",
    "        selection = {\n",
    "            'nnz': slice(k * chunk_sizes['nnz'], (k + 1) * chunk_sizes['nnz']),\n",
    "            'nny': slice(j * chunk_sizes['nny'], (j + 1) * chunk_sizes['nny']),\n",
    "            'nnx': slice(i * chunk_sizes['nnx'], (i + 1) * chunk_sizes['nnx']),\n",
    "        }\n",
    "        \n",
    "        # 512-subcube to manage memory constraints\n",
    "        data_subcube = data_xr.isel(selection)\n",
    "        \n",
    "        # Group 3 velocity components together\n",
    "        merged_velocity = merge_velocities(data_subcube, chunk_size_base=xyzt_chunk_sizes[0])\n",
    "\n",
    "        # Add an extra dimension to the data to match isotropic8192\n",
    "        for v in ['e','p','t']:\n",
    "            merged_velocity[v] = merged_velocity[v].expand_dims({'extra_dim': [1]}).drop_vars('extra_dim')\n",
    "            # Put the extra dimension in the back\n",
    "            merged_velocity[v] = merged_velocity[v].transpose('nnz', 'nny', 'nnx', 'extra_dim')\n",
    "        \n",
    "\n",
    "        # Rename variables\n",
    "        merged_velocity = merged_velocity.rename({'e': 'energy', 't': 'temperature', 'p': 'pressure'})\n",
    "        \n",
    "        dataset = merged_velocity\n",
    "\n",
    "        x, y, z = [coord * xyzt_filedb_file_dims[index] + 1 for index, coord in enumerate(coords[:3])]\n",
    "        time = coords[3]\n",
    "        ranges = [[x, x + xyzt_filedb_file_dims[0] - 1],\n",
    "                  [y, y + xyzt_filedb_file_dims[1] - 1],\n",
    "                  [z, z + xyzt_filedb_file_dims[2] - 1]]\n",
    "        \n",
    "        \n",
    "\n",
    "        # Needed for Mike's getCutout below\n",
    "        # dataset.attrs['dataset_title'] = dataset_title\n",
    "            \n",
    "        variable_data = []\n",
    "        for zarr_variable in zarr_variables:\n",
    "            variable_data.append(dataset[zarr_variable].values)\n",
    "            # data_array = dataset[zarr_variable].values\n",
    "            # data_array = np.expand_dims(data_array, axis=0)  # Adds time dimension at axis 0\n",
    "            # variable_data.append(data_array)\n",
    "\n",
    "            \n",
    "        \"\"\"\n",
    "        TODO : End of code for reading in data.\n",
    "        \"\"\"\n",
    "\n",
    "        def save_store(giverny_cube, variable_name):\n",
    "            root[variable_name][time + time_ceph_offset,\n",
    "                                z - 1 : z + xyzt_filedb_file_dims[2] - 1,\n",
    "                                y - 1 : y + xyzt_filedb_file_dims[1] - 1,\n",
    "                                x - 1 : x + xyzt_filedb_file_dims[0] - 1, :] = giverny_cube\n",
    "            \n",
    "        def verify_copy(giverny_cube, variable_name):\n",
    "            ceph_cube = root[variable_name][time + time_ceph_offset,\n",
    "                                            z - 1 : z + xyzt_filedb_file_dims[2] - 1,\n",
    "                                            y - 1 : y + xyzt_filedb_file_dims[1] - 1,\n",
    "                                            x - 1 : x + xyzt_filedb_file_dims[0] - 1, :]\n",
    "            \n",
    "            if np.all(giverny_cube == ceph_cube):\n",
    "                return \"valid copy\"\n",
    "            else:\n",
    "                return \"corrupt copy\"\n",
    "\n",
    "        # Save the variables in parallel.\n",
    "        with ThreadPoolExecutor(num_variables) as p:\n",
    "            list(p.map(save_store, variable_data, zarr_variables))\n",
    "            \n",
    "\n",
    "        # Verify that the copies are not corrupt.\n",
    "        with ThreadPoolExecutor(num_variables) as p:\n",
    "            verified = list(p.map(verify_copy, variable_data, zarr_variables))\n",
    "        if any([message == \"corrupt copy\" for message in verified]) or len(verified) != num_variables:\n",
    "            return f\"error processing cube at {coords}: verification failed\"\n",
    "        else:\n",
    "            return f\"successfully processed cube at {coords}\"\n",
    "\n",
    "\n",
    "    except Exception as e:\n",
    "        tb = traceback.format_exc()\n",
    "        raise Exception(f\"error processing cube at {coords}: {type(e).__name__}, {e}\\n{tb}\")\n",
    "        \n",
    "# Commented out the suppress_stderr context manager\n",
    "# @contextlib.contextmanager\n",
    "# def suppress_stderr():\n",
    "#     with open(os.devnull, 'w') as devnull:\n",
    "#         with contextlib.redirect_stderr(devnull):\n",
    "#             yield\n",
    "\n",
    "# Write the report file.\n",
    "if not os.path.exists(output_path):\n",
    "    os.mkdir(output_path)\n",
    "    \n",
    "# Process cubes in parallel.\n",
    "cube_coords = list(itertools.product(*[range(dim // chunk) for dim, chunk in zip(xyzt_dims[:3], xyzt_filedb_file_dims[:3])]))\n",
    "    \n",
    "current_time_pbar = tqdm(total=len(cube_coords), desc=\"chunks completed\", leave=False)\n",
    "    \n",
    "with open(os.path.join(output_path, f\"{dataset_title}_report-success.txt\"), \"w\") as f_success:\n",
    "    with open(os.path.join(output_path, f\"{dataset_title}_report-error.txt\"), \"w\") as f_error:\n",
    "        for time in tqdm(range(xyzt_dims[-1]), total=xyzt_dims[-1], desc=\"time\"):\n",
    "            correct_flag = False\n",
    "            retries = 0\n",
    "            while not correct_flag and retries <= max_retries:\n",
    "                retries += 1\n",
    "                \n",
    "                # Update cube_coords with the time.\n",
    "                cube_coords_time = [(x, y, z, time) for x, y, z in cube_coords]\n",
    "                \n",
    "                results = []\n",
    "                try:\n",
    "                    with ProcessPoolExecutor(num_workers) as executor:\n",
    "                        # Removed suppress_stderr()\n",
    "                        for result in executor.map(process_cube, cube_coords_time):\n",
    "                            results.append(result)\n",
    "                            current_time_pbar.update(1)\n",
    "\n",
    "                            if \"error processing cube\" in result:\n",
    "                                break\n",
    "\n",
    "                    # Reset the chunk progress bar.\n",
    "                    current_time_pbar.reset()\n",
    "\n",
    "                    print('\\r' + ' ' * 100 + '\\r', end='', flush=True)\n",
    "                    if any([\"error processing cube\" in message for message in results]) or results == []:\n",
    "                        if retries > max_retries:\n",
    "                            output_str = f\"error consolidating data for time = {time}\\n\"\n",
    "                            f_error.write(output_str)\n",
    "                            f_error.flush()\n",
    "\n",
    "                            print(f\"\\rerror consolidating data for time = {time}\", end='')\n",
    "                        else:\n",
    "                            print(f\"\\rretrying (n = {retries}) time = {time}\", end='')\n",
    "                            continue\n",
    "                    else:\n",
    "                        output_str = f\"successfully consolidated data for time = {time}\\n\"\n",
    "                        f_success.write(output_str)\n",
    "                        f_success.flush()\n",
    "\n",
    "                        print(f\"\\rsuccessfully consolidated data for time = {time}\", end='')\n",
    "\n",
    "                        correct_flag = True\n",
    "                except Exception as e:\n",
    "                    tb = traceback.format_exc()\n",
    "                    print('\\r' + ' ' * 100 + '\\r', end='', flush=True)\n",
    "                    \n",
    "                    # Reset the chunk progress bar.\n",
    "                    current_time_pbar.reset()\n",
    "                    \n",
    "                    error_message = f\"code exception when consolidating data for time = {time}: {type(e).__name__}, {e}\\n{tb}\\n\"\n",
    "                    f_error.write(error_message)\n",
    "                    f_error.flush()\n",
    "\n",
    "                    print(f\"\\rcode exception when consolidating data for time = {time}: {e}\", end='')\n",
    "                    if retries > max_retries:\n",
    "                        break\n",
    "                    else:\n",
    "                        print(f\"\\rretrying (n = {retries}) time = {time}\", end='')\n",
    "                        continue\n",
    "\n",
    "print('\\n-')\n",
    "print(\"completed zarr consolidation, check report files\")"
   ]
  },
  {
   "cell_type": "code",
   "execution_count": null,
   "id": "1393d43c-e144-4a4a-ad94-ccb0d28e05e7",
   "metadata": {
    "execution": {
     "iopub.status.busy": "2024-12-07T03:45:59.901638Z",
     "iopub.status.idle": "2024-12-07T03:45:59.902972Z",
     "shell.execute_reply": "2024-12-07T03:45:59.902302Z",
     "shell.execute_reply.started": "2024-12-07T03:45:59.902231Z"
    },
    "tags": []
   },
   "outputs": [],
   "source": [
    "# import dask\n",
    "\n",
    "# timestep = 0\n",
    "\n",
    "# data_xr = xr.open_dataset(select_file(NCAR_JHF_LR_PATH, timestep),\n",
    "#                                   chunks={'nnz': xyzt_filedb_file_dims[2],\n",
    "#                                           'nny': xyzt_filedb_file_dims[1],\n",
    "#                                           'nnx': xyzt_filedb_file_dims[0]})\n",
    "    \n",
    "# assert isinstance(data_xr['e'].data, dask.array.core.Array)\n",
    "\n",
    "#         # Unpack cube coordinates\n",
    "# # i, j, k = coords[:3]  # i: X-index, j: Y-index, k: Z-index\n",
    "\n",
    "# # Chunk sizes for each dimension\n",
    "# chunk_sizes = {\n",
    "#     'nnx': xyzt_filedb_file_dims[0],\n",
    "#     'nny': xyzt_filedb_file_dims[1],\n",
    "#     'nnz': xyzt_filedb_file_dims[2],\n",
    "# }\n",
    "\n",
    "# # Construct the selection dictionary\n",
    "# # selection = {\n",
    "# #     'nnz': slice(k * chunk_sizes['nnz'], (k + 1) * chunk_sizes['nnz']),\n",
    "# #     'nny': slice(j * chunk_sizes['nny'], (j + 1) * chunk_sizes['nny']),\n",
    "# #     'nnx': slice(i * chunk_sizes['nnx'], (i + 1) * chunk_sizes['nnx']),\n",
    "# # }\n",
    "\n",
    "# # 512-subcube to manage memory constraints\n",
    "# data_subcube = data_xr#.isel(selection)\n",
    "\n",
    "# # Group 3 velocity components together\n",
    "# merged_velocity = merge_velocities(data_subcube, chunk_size_base=xyzt_chunk_sizes[0])\n",
    "\n",
    "# # Add an extra dimension to the data to match isotropic8192\n",
    "# for v in ['e','p','t']:\n",
    "#     merged_velocity[v] = merged_velocity[v].expand_dims({'extra_dim': [1]}).drop_vars('extra_dim')\n",
    "#     # Put the extra dimension in the back\n",
    "#     merged_velocity[v] = merged_velocity[v].transpose('nnz', 'nny', 'nnx', 'extra_dim')\n",
    "\n",
    "\n",
    "# # Rename variables\n",
    "# merged_velocity = merged_velocity.rename({'e': 'energy', 't': 'temperature', 'p': 'pressure'})\n",
    "\n",
    "# dataset = merged_velocity\n",
    "\n",
    "# # x, y, z = [coord * xyzt_filedb_file_dims[index] + 1 for index, coord in enumerate(coords[:3])]\n",
    "# # time = coords[3]\n",
    "# # ranges = [[x, x + xyzt_filedb_file_dims[0] - 1],\n",
    "# #           [y, y + xyzt_filedb_file_dims[1] - 1],\n",
    "# #           [z, z + xyzt_filedb_file_dims[2] - 1]]\n",
    "\n",
    "\n",
    "\n",
    "# # Needed for Mike's getCutout below\n",
    "# dataset.attrs['dataset_title'] = 'stsabl2048low'\n",
    "\n",
    "# variable_data = []\n",
    "# for zarr_variable in zarr_variables:\n",
    "#     variable_data.append(dataset[zarr_variable].values)\n",
    "#     # data_array = dataset[zarr_variable].values\n",
    "#     # data_array = np.expand_dims(data_array, axis=0)  # Adds time dimension at axis 0\n",
    "#     # variable_data.append(data_array)"
   ]
  },
  {
   "cell_type": "code",
   "execution_count": null,
   "id": "d00a55ea-1c9d-479e-a792-e98a241b0356",
   "metadata": {},
   "outputs": [],
   "source": []
  }
 ],
 "metadata": {
  "kernelspec": {
   "display_name": "Python 3.9 (py39)",
   "language": "python",
   "name": "py39"
  },
  "language_info": {
   "codemirror_mode": {
    "name": "ipython",
    "version": 3
   },
   "file_extension": ".py",
   "mimetype": "text/x-python",
   "name": "python",
   "nbconvert_exporter": "python",
   "pygments_lexer": "ipython3",
   "version": "3.9.13"
  }
 },
 "nbformat": 4,
 "nbformat_minor": 5
}
