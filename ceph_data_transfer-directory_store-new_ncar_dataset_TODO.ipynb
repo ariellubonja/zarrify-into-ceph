{
 "cells": [
  {
   "cell_type": "markdown",
   "id": "bd37d0eb",
   "metadata": {},
   "source": [
    "### This notebook is currently in append mode, starting from t:\n",
    "\n",
    "This is because the write failed after 26, so I will rewrite 26-105, saving ~5 days in the process\n",
    "\n",
    "Changes:\n",
    "\n",
    "1. Skip creating new zarr store\n",
    "\n",
    "2. Change timestep iteration in the last cell\n",
    "\n",
    "3. Disabled the `mv prev_iter new_iter`"
   ]
  },
  {
   "cell_type": "code",
   "execution_count": 1,
   "id": "6ff9a861",
   "metadata": {
    "execution": {
     "iopub.execute_input": "2025-01-22T20:44:17.441265Z",
     "iopub.status.busy": "2025-01-22T20:44:17.440646Z",
     "iopub.status.idle": "2025-01-22T20:44:17.447138Z",
     "shell.execute_reply": "2025-01-22T20:44:17.446487Z",
     "shell.execute_reply.started": "2025-01-22T20:44:17.441201Z"
    },
    "tags": []
   },
   "outputs": [],
   "source": [
    "t_start = 0"
   ]
  },
  {
   "cell_type": "code",
   "execution_count": 2,
   "id": "0ce2a96b",
   "metadata": {
    "execution": {
     "iopub.execute_input": "2025-01-22T20:44:17.533817Z",
     "iopub.status.busy": "2025-01-22T20:44:17.533668Z",
     "iopub.status.idle": "2025-01-22T20:44:17.537874Z",
     "shell.execute_reply": "2025-01-22T20:44:17.537368Z",
     "shell.execute_reply.started": "2025-01-22T20:44:17.533804Z"
    },
    "tags": []
   },
   "outputs": [
    {
     "name": "stdout",
     "output_type": "stream",
     "text": [
      "/home/idies/workspace/turbulence-ceph-staging/sciserver-turbulence\n"
     ]
    }
   ],
   "source": [
    "%cd /home/idies/workspace/turbulence-ceph-staging/sciserver-turbulence"
   ]
  },
  {
   "cell_type": "code",
   "execution_count": 3,
   "id": "5915ec1e",
   "metadata": {
    "execution": {
     "iopub.execute_input": "2025-01-22T20:44:18.856958Z",
     "iopub.status.busy": "2025-01-22T20:44:18.856114Z",
     "iopub.status.idle": "2025-01-22T20:44:18.860118Z",
     "shell.execute_reply": "2025-01-22T20:44:18.859517Z",
     "shell.execute_reply.started": "2025-01-22T20:44:18.856937Z"
    },
    "tags": []
   },
   "outputs": [],
   "source": [
    "import os\n",
    "\n",
    "NCAR_JHF_BASE_PATH = '/home/idies/workspace/turbulence-ceph-staging/ncar-jhf'\n",
    "\n",
    "NCAR_JHF_HR_PATH = os.path.join(NCAR_JHF_BASE_PATH, 'hr')\n",
    "NCAR_JHF_LR_PATH = os.path.join(NCAR_JHF_BASE_PATH, 'lr')\n",
    "\n",
    "NCAR_FILES_EXTENSION = '.nc'"
   ]
  },
  {
   "cell_type": "code",
   "execution_count": 4,
   "id": "9ebf3c7e",
   "metadata": {
    "execution": {
     "iopub.execute_input": "2025-01-22T20:44:19.598712Z",
     "iopub.status.busy": "2025-01-22T20:44:19.598495Z",
     "iopub.status.idle": "2025-01-22T20:44:19.601379Z",
     "shell.execute_reply": "2025-01-22T20:44:19.600876Z",
     "shell.execute_reply.started": "2025-01-22T20:44:19.598699Z"
    },
    "tags": []
   },
   "outputs": [],
   "source": [
    "DATASET_TO_PROCESS = NCAR_JHF_HR_PATH"
   ]
  },
  {
   "cell_type": "code",
   "execution_count": 5,
   "id": "121c5ce8",
   "metadata": {
    "execution": {
     "iopub.execute_input": "2025-01-22T20:44:19.993371Z",
     "iopub.status.busy": "2025-01-22T20:44:19.992927Z",
     "iopub.status.idle": "2025-01-22T20:44:21.230242Z",
     "shell.execute_reply": "2025-01-22T20:44:21.229588Z",
     "shell.execute_reply.started": "2025-01-22T20:44:19.993339Z"
    },
    "tags": []
   },
   "outputs": [],
   "source": [
    "\"\"\"\n",
    "import packages\n",
    "\"\"\"\n",
    "import os\n",
    "import sys\n",
    "import zarr\n",
    "import itertools\n",
    "import numpy as np\n",
    "from tqdm.auto import tqdm\n",
    "from zarr.storage import DirectoryStore\n",
    "from concurrent.futures import ThreadPoolExecutor, ProcessPoolExecutor\n",
    "from giverny.turbulence_dataset import *\n",
    "from giverny.turbulence_toolkit import *\n",
    "import xarray as xr\n",
    "import traceback\n",
    "import dask"
   ]
  },
  {
   "cell_type": "code",
   "execution_count": 6,
   "id": "5ac46e68-bb3c-4b1b-a0e2-96b6dcd0c25c",
   "metadata": {
    "execution": {
     "iopub.execute_input": "2025-01-22T20:44:22.101994Z",
     "iopub.status.busy": "2025-01-22T20:44:22.101174Z",
     "iopub.status.idle": "2025-01-22T20:44:22.105426Z",
     "shell.execute_reply": "2025-01-22T20:44:22.104707Z",
     "shell.execute_reply.started": "2025-01-22T20:44:22.101975Z"
    },
    "tags": []
   },
   "outputs": [],
   "source": [
    "\"\"\"\n",
    "paths\n",
    "\"\"\"\n",
    "dataset_title = 'stsabl2048high'\n",
    "store_path = f\"/home/idies/workspace/turbulence-ceph-staging/sciserver-turbulence/{dataset_title}/{dataset_title}.zarr\"\n",
    "store = DirectoryStore(store_path, dimension_separator = '/')"
   ]
  },
  {
   "cell_type": "code",
   "execution_count": 7,
   "id": "88e9232f",
   "metadata": {
    "execution": {
     "iopub.execute_input": "2025-01-22T20:44:23.119237Z",
     "iopub.status.busy": "2025-01-22T20:44:23.118955Z",
     "iopub.status.idle": "2025-01-22T20:44:23.122537Z",
     "shell.execute_reply": "2025-01-22T20:44:23.121971Z",
     "shell.execute_reply.started": "2025-01-22T20:44:23.119221Z"
    },
    "tags": []
   },
   "outputs": [],
   "source": [
    "\"\"\"\n",
    "time offset from 0 when querying the dataset\n",
    "\"\"\"\n",
    "time_offset = 1\n",
    "\n",
    "\"\"\"\n",
    "# offset from the first time chunk to write data into the zarr store on ceph.\n",
    "# if this value = 0, that means time 0 is written to the zarr time chunk folder = 0.\n",
    "# if this value = 1, that means time 0 is written to the zarr time chunk folder = 1. this is needed to keep a placeholder time chunk folder for pchip interpolation\n",
    "# because the precursor time cannot be read by giverny getCutout and will have to be read and written manually.\n",
    "\"\"\"\n",
    "time_ceph_offset = 0"
   ]
  },
  {
   "cell_type": "code",
   "execution_count": 8,
   "id": "66cf3164-8b96-4a08-9274-38f9f4e97c25",
   "metadata": {
    "execution": {
     "iopub.execute_input": "2025-01-22T20:44:23.521600Z",
     "iopub.status.busy": "2025-01-22T20:44:23.520976Z",
     "iopub.status.idle": "2025-01-22T20:44:23.524560Z",
     "shell.execute_reply": "2025-01-22T20:44:23.524085Z",
     "shell.execute_reply.started": "2025-01-22T20:44:23.521582Z"
    },
    "tags": []
   },
   "outputs": [],
   "source": [
    "# xyz and time dimensions for the full dataset including times for pchip interpolation that cannot be read by giverny.\n",
    "xyzt_dims_full = [2048, 2048, 2048, 105]\n",
    "# xyz and time dimensions for the dataset to be read with giverny.\n",
    "xyzt_dims = [2048, 2048, 2048, 105]"
   ]
  },
  {
   "cell_type": "code",
   "execution_count": 9,
   "id": "bbeac63a-3f15-4860-972a-495253a457ca",
   "metadata": {
    "execution": {
     "iopub.execute_input": "2025-01-22T20:44:28.643472Z",
     "iopub.status.busy": "2025-01-22T20:44:28.643175Z",
     "iopub.status.idle": "2025-01-22T20:44:28.647447Z",
     "shell.execute_reply": "2025-01-22T20:44:28.647093Z",
     "shell.execute_reply.started": "2025-01-22T20:44:28.643455Z"
    },
    "tags": []
   },
   "outputs": [],
   "source": [
    "\"\"\"\n",
    "zarr store parameters\n",
    "\"\"\"\n",
    "\n",
    "# xyz and time chunk sizes for the zarr store on ceph.\n",
    "xyzt_chunk_sizes = [64, 64, 64, 1]\n",
    "\n",
    "# xyz and time dimensions to query in parallel when reading from the legacy stores.\n",
    "# Ariel: This is also used to keep a constraint on memory usage for non-FileDB queries. Don't remove this, it's not incorrect\n",
    "xyzt_filedb_file_dims = np.array([512, 512, 512, 1])\n",
    "\n",
    "# use the default stride value of 1 for each axis when using giverny to retrieve a cutout of the data.\n",
    "strides = [1, 1, 1]\n",
    "\n",
    "# map the zarr group variables to the number of values stored for each grid point.\n",
    "zarr_groups = {\n",
    "    'velocity': 3,\n",
    "    'pressure': 1,\n",
    "    'temperature': 1,\n",
    "    'sgsenergy': 1\n",
    "}\n",
    "zarr_variables = list(zarr_groups.keys())\n",
    "num_variables = len(zarr_variables)"
   ]
  },
  {
   "cell_type": "code",
   "execution_count": 10,
   "id": "b615dac9",
   "metadata": {
    "execution": {
     "iopub.execute_input": "2025-01-22T20:44:35.048263Z",
     "iopub.status.busy": "2025-01-22T20:44:35.047946Z",
     "iopub.status.idle": "2025-01-22T20:44:35.051324Z",
     "shell.execute_reply": "2025-01-22T20:44:35.050824Z",
     "shell.execute_reply.started": "2025-01-22T20:44:35.048248Z"
    },
    "tags": []
   },
   "outputs": [],
   "source": [
    "\"\"\"\n",
    "runtime parameters\n",
    "\"\"\"\n",
    "\n",
    "# number of workers to read in parallel.\n",
    "# Keep this under 4, this reads 50GB per worker per worker\n",
    "num_workers = 5\n",
    "# maximum number of retries in case of an error.\n",
    "max_retries = 4\n",
    "# output path for writing the report text file.\n",
    "output_path = os.path.join('/home/idies/workspace/turbulence-ceph-staging/sciserver-turbulence/reports/', dataset_title)"
   ]
  },
  {
   "cell_type": "markdown",
   "id": "2a2454ea-aac1-43dd-9337-b33c5f4f9ec4",
   "metadata": {},
   "source": [
    "### Make sure to disable this if just verifying data"
   ]
  },
  {
   "cell_type": "code",
   "execution_count": 11,
   "id": "44d825bc-3916-4f37-bf0e-1a648dafaaf7",
   "metadata": {
    "execution": {
     "iopub.execute_input": "2025-01-13T17:09:47.108497Z",
     "iopub.status.busy": "2025-01-13T17:09:47.108349Z",
     "iopub.status.idle": "2025-01-13T17:09:47.110723Z",
     "shell.execute_reply": "2025-01-13T17:09:47.110287Z",
     "shell.execute_reply.started": "2025-01-13T17:09:47.108483Z"
    },
    "tags": []
   },
   "outputs": [],
   "source": [
    "# !mv /home/idies/workspace/turbulence-ceph-staging/sciserver-turbulence/stsabl2048high /home/idies/workspace/turbulence-ceph-staging/sciserver-turbulence/stsabl2048high_OLD9"
   ]
  },
  {
   "cell_type": "code",
   "execution_count": 12,
   "id": "1018e21f",
   "metadata": {
    "execution": {
     "iopub.execute_input": "2025-01-13T17:09:47.112327Z",
     "iopub.status.busy": "2025-01-13T17:09:47.111994Z",
     "iopub.status.idle": "2025-01-13T17:09:47.117025Z",
     "shell.execute_reply": "2025-01-13T17:09:47.116579Z",
     "shell.execute_reply.started": "2025-01-13T17:09:47.112311Z"
    },
    "tags": []
   },
   "outputs": [],
   "source": [
    "# \"\"\"\n",
    "# create the zarr store\n",
    "# \"\"\"\n",
    "# def create_zarr_store(store, xyzt_dims_full, xyzt_chunk_sizes, zarr_groups):\n",
    "#     dt = np.dtype(np.float32)\n",
    "#     dt = dt.newbyteorder('<')\n",
    "\n",
    "#     # create the zarr store.\n",
    "#     root = zarr.group(store = store, overwrite = True, synchronizer = None)\n",
    "\n",
    "#     # create the zarr group for each variable.\n",
    "#     for variable_name in zarr_groups:\n",
    "#         zarr_dims = zarr_groups[variable_name]\n",
    "\n",
    "#         zarr_group = root.zeros(variable_name, shape = (xyzt_dims_full[3], xyzt_dims_full[2], xyzt_dims_full[1], xyzt_dims_full[0], zarr_dims),\n",
    "#                                 chunks = (xyzt_chunk_sizes[3], xyzt_chunk_sizes[2], xyzt_chunk_sizes[1], xyzt_chunk_sizes[0], zarr_dims),\n",
    "#                                 dtype = dt, compressor = None)\n",
    "\n",
    "#     print('zarr store created.')\n",
    "#     print('-')\n",
    "#     sys.stdout.flush()\n",
    "\n",
    "\n",
    "# def confirm_overwrite():\n",
    "#     while True:\n",
    "#         response = input(\"Are you sure you want to overwrite everything? (y/n): \").strip().lower()\n",
    "#         if response in ('y', 'n'):\n",
    "#             return response == 'y'  # Returns True for 'y', False for 'n'\n",
    "#         print(\"Invalid input. Please enter 'y' or 'n'.\")\n",
    "\n",
    "# # if confirm_overwrite():\n",
    "# #     create_zarr_store(store, xyzt_dims_full, xyzt_chunk_sizes, zarr_groups)\n",
    "# # else:\n",
    "# #     print(\"Operation canceled.\")"
   ]
  },
  {
   "cell_type": "code",
   "execution_count": 11,
   "id": "a2b0e62f",
   "metadata": {
    "execution": {
     "iopub.execute_input": "2025-01-22T20:44:41.815861Z",
     "iopub.status.busy": "2025-01-22T20:44:41.815576Z",
     "iopub.status.idle": "2025-01-22T20:44:41.878949Z",
     "shell.execute_reply": "2025-01-22T20:44:41.878487Z",
     "shell.execute_reply.started": "2025-01-22T20:44:41.815845Z"
    },
    "tags": []
   },
   "outputs": [],
   "source": [
    "import dask.array as da\n",
    "\n",
    "def merge_velocities(transposed_ds, chunk_size_base=64):\n",
    "    \"\"\"\n",
    "        Merge the 3 velocity components/directions - such merging\n",
    "        exhibits faster 3-component reads. This is a Dask lazy\n",
    "         computation\n",
    "    \"\"\"\n",
    "\n",
    "    # Merge Velocities into 1\n",
    "    b = da.stack([transposed_ds['u'], transposed_ds['v'], transposed_ds['w']], axis=3)\n",
    "    b = b.squeeze()  # It should be (2048, 2048, 2048, 3, 1) before this. Use (2048, 2048, 2048, 3)\n",
    "    # Make into correct chunk sizes\n",
    "    b = b.rechunk((chunk_size_base, chunk_size_base, chunk_size_base, 3))  # Dask chooses (64,64,64,1)\n",
    "    result = transposed_ds.drop_vars(['u', 'v', 'w'])  # Drop individual velocities\n",
    "\n",
    "    # Add joined velocity to original group\n",
    "    # Can't make the dim name same as scalars\n",
    "    result['velocity'] = xr.DataArray(b, dims=(\n",
    "        'nnz', 'nny', 'nnx', 'velocity component (xyz)'))\n",
    "\n",
    "    return result\n",
    "\n",
    "\n",
    "import re\n",
    "\n",
    "def select_file(folder_path, timestep, file_acronym='jhf'):\n",
    "    file_list = os.listdir(folder_path)\n",
    "\n",
    "    for filename in file_list:\n",
    "        # Extract the number from the filename using a more specific regular expression\n",
    "        match = re.search(file_acronym+r'\\.(\\d+)\\.nc', filename)\n",
    "        if match:\n",
    "            file_timestep = int(match.group(1))\n",
    "            if file_timestep == timestep:\n",
    "                # Return full paths\n",
    "                return os.path.join(folder_path, filename)\n",
    "    # If no file is found, raise an exception\n",
    "    raise FileNotFoundError(f\"No file found for timestep {timestep}\")"
   ]
  },
  {
   "cell_type": "markdown",
   "id": "cd83b0523383718b",
   "metadata": {},
   "source": [
    "## Begin Write"
   ]
  },
  {
   "cell_type": "code",
   "execution_count": 12,
   "id": "569a2591d1ef2003",
   "metadata": {
    "execution": {
     "iopub.execute_input": "2025-01-22T20:45:15.180909Z",
     "iopub.status.busy": "2025-01-22T20:45:15.180664Z",
     "iopub.status.idle": "2025-01-22T20:45:15.286892Z",
     "shell.execute_reply": "2025-01-22T20:45:15.286492Z",
     "shell.execute_reply.started": "2025-01-22T20:45:15.180895Z"
    },
    "tags": []
   },
   "outputs": [],
   "source": [
    "\"\"\"\n",
    "read JHTDB datasets from fileDB using giverny and then write to a zarr store on ceph\n",
    "\"\"\"\n",
    "\n",
    "# open the zarr store using DirectoryStore in read-only mode, to verify\n",
    "root = zarr.open(store, mode = 'r')\n",
    "\n",
    "# # append mode to edit\n",
    "# root = zarr.open(store, mode = 'a')\n",
    "\n",
    "def process_cube(coords):\n",
    "    try:\n",
    "        \"\"\"\n",
    "        Ariel changes to code here for reading in the new NCAR data without giverny.\n",
    "        \"\"\"\n",
    "\n",
    "        \"\"\"\n",
    "        Select relevant 512-subcube from 2048^3 original data\n",
    "        This reduces peak memory consumption\n",
    "        \"\"\"\n",
    "        # Get current timestep no. coords = (x, y, z, time), where x,y,z are 512-chunk indices\n",
    "        timestep = coords[3]\n",
    "        # Unpack cube coordinates\n",
    "        i, j, k = coords[:3]  # i: X-index, j: Y-index, k: Z-index\n",
    "\n",
    "        # chunks=512^3 bcs we want to load a 512^3 subset, to keep memory usage low\n",
    "        # Ariel: Not necessary to move the data_xr out of the function, and pass data_subcube as argument, as there's minimal overhead here\n",
    "        data_xr = xr.open_dataset(select_file(DATASET_TO_PROCESS, timestep),\n",
    "                                  chunks={'nnz': xyzt_filedb_file_dims[2],\n",
    "                                          'nny': xyzt_filedb_file_dims[1],\n",
    "                                          'nnx': xyzt_filedb_file_dims[0]})\n",
    "\n",
    "        assert isinstance(data_xr['e'].data, dask.array.core.Array)\n",
    "\n",
    "        # Define mapping of dimension name to chunk size\n",
    "        # Currently Redundant since 512^3 dims are the same along all dimensions\n",
    "        chunk_sizes_dict = {\n",
    "            'nnx': xyzt_filedb_file_dims[0],\n",
    "            'nny': xyzt_filedb_file_dims[1],\n",
    "            'nnz': xyzt_filedb_file_dims[2],\n",
    "        }\n",
    "\n",
    "        # Find and load the correct 512^3 subcube using coords x-y-z\n",
    "        selection = {\n",
    "            'nnz': slice(k * chunk_sizes_dict['nnz'], (k + 1) * chunk_sizes_dict['nnz']),\n",
    "            'nny': slice(j * chunk_sizes_dict['nny'], (j + 1) * chunk_sizes_dict['nny']),\n",
    "            'nnx': slice(i * chunk_sizes_dict['nnx'], (i + 1) * chunk_sizes_dict['nnx']),\n",
    "        }\n",
    "\n",
    "        # 512-subcube to manage memory constraints\n",
    "        data_subcube = data_xr.isel(selection)\n",
    "\n",
    "\n",
    "        \"\"\"\n",
    "        Preprocess this subcube for writing to Zarr\n",
    "        \"\"\"\n",
    "\n",
    "        # Group 3 velocity components together\n",
    "        merged_velocity = merge_velocities(data_subcube, chunk_size_base=xyzt_chunk_sizes[0])\n",
    "\n",
    "        # Add an extra dimension to the data to match isotropic8192\n",
    "        for v in ['e','p','t']:\n",
    "            merged_velocity[v] = merged_velocity[v].expand_dims({'extra_dim': [1]}).drop_vars('extra_dim')\n",
    "            # Put the extra dimension in the back\n",
    "            merged_velocity[v] = merged_velocity[v].transpose('nnz', 'nny', 'nnx', 'extra_dim')\n",
    "\n",
    "\n",
    "        # Rename variables\n",
    "        merged_velocity = merged_velocity.rename({'e': 'sgsenergy', 't': 'temperature', 'p': 'pressure'})\n",
    "\n",
    "        dataset = merged_velocity\n",
    "\n",
    "\n",
    "        \"\"\"\n",
    "        Load the subcube into main memory\n",
    "        \"\"\"\n",
    "        variable_data = []\n",
    "        for zarr_variable in zarr_variables:\n",
    "            variable_data.append(dataset[zarr_variable].values)\n",
    "\n",
    "\n",
    "        \"\"\"\n",
    "        End of code for reading in data.\n",
    "        \"\"\"\n",
    "\n",
    "        x, y, z = [coord * xyzt_filedb_file_dims[index] + 1 for index, coord in enumerate(coords[:3])]\n",
    "        time = timestep\n",
    "\n",
    "        # def save_store(giverny_cube, variable_name):\n",
    "        #     root[variable_name][time + time_ceph_offset,\n",
    "        #                         z - 1 : z + xyzt_filedb_file_dims[2] - 1,\n",
    "        #                         y - 1 : y + xyzt_filedb_file_dims[1] - 1,\n",
    "        #                         x - 1 : x + xyzt_filedb_file_dims[0] - 1, :] = giverny_cube\n",
    "\n",
    "        def verify_copy(giverny_cube, variable_name):\n",
    "            ceph_cube = root[variable_name][time + time_ceph_offset,\n",
    "                                            z - 1 : z + xyzt_filedb_file_dims[2] - 1,\n",
    "                                            y - 1 : y + xyzt_filedb_file_dims[1] - 1,\n",
    "                                            x - 1 : x + xyzt_filedb_file_dims[0] - 1, :]\n",
    "\n",
    "            if np.all(giverny_cube == ceph_cube):\n",
    "                return \"valid copy\"\n",
    "            else:\n",
    "                return \"corrupt copy\"\n",
    "\n",
    "        # # Save the variables in parallel.\n",
    "        # with ThreadPoolExecutor(num_variables) as p:\n",
    "        #     list(p.map(save_store, variable_data, zarr_variables))\n",
    "\n",
    "\n",
    "        # Verify that the copies are not corrupt.\n",
    "        with ThreadPoolExecutor(num_variables) as p:\n",
    "            verified = list(p.map(verify_copy, variable_data, zarr_variables))\n",
    "        if any([message == \"corrupt copy\" for message in verified]) or len(verified) != num_variables:\n",
    "            return f\"error processing cube at {coords}: verification failed\"\n",
    "        else:\n",
    "            return f\"successfully processed cube at {coords}\"\n",
    "\n",
    "\n",
    "    except Exception as e:\n",
    "        tb = traceback.format_exc()\n",
    "        raise Exception(f\"error processing cube at {coords}: {type(e).__name__}, {e}\\n{tb}\")"
   ]
  },
  {
   "cell_type": "code",
   "execution_count": null,
   "id": "053fedf2",
   "metadata": {
    "execution": {
     "iopub.execute_input": "2025-01-22T20:45:28.015439Z",
     "iopub.status.busy": "2025-01-22T20:45:28.015117Z"
    },
    "tags": []
   },
   "outputs": [
    {
     "data": {
      "application/vnd.jupyter.widget-view+json": {
       "model_id": "34bc1c6792084bd9b041b0d1fc5fdb78",
       "version_major": 2,
       "version_minor": 0
      },
      "text/plain": [
       "chunks completed:   0%|          | 0/64 [00:00<?, ?it/s]"
      ]
     },
     "metadata": {},
     "output_type": "display_data"
    },
    {
     "data": {
      "application/vnd.jupyter.widget-view+json": {
       "model_id": "135441bfe1e94530b9859c7c6f78fdba",
       "version_major": 2,
       "version_minor": 0
      },
      "text/plain": [
       "time:   0%|          | 0/105 [00:00<?, ?it/s]"
      ]
     },
     "metadata": {},
     "output_type": "display_data"
    }
   ],
   "source": [
    "\"\"\"\n",
    "Call process_cubes on the collection of 512^3 subchunks\n",
    "\"\"\"\n",
    "\n",
    "# Commented out the suppress_stderr context manager\n",
    "# @contextlib.contextmanager\n",
    "# def suppress_stderr():\n",
    "#     with open(os.devnull, 'w') as devnull:\n",
    "#         with contextlib.redirect_stderr(devnull):\n",
    "#             yield\n",
    "\n",
    "# Write the report file.\n",
    "if not os.path.exists(output_path):\n",
    "    os.mkdir(output_path)\n",
    "\n",
    "# Process cubes in parallel.\n",
    "cube_coords = list(itertools.product(*[range(dim // chunk) for dim, chunk in zip(xyzt_dims[:3], xyzt_filedb_file_dims[:3])]))\n",
    "\n",
    "current_time_pbar = tqdm(total=len(cube_coords), desc=\"chunks completed\", leave=False)\n",
    "\n",
    "with open(os.path.join(output_path, f\"{dataset_title}_report-success.txt\"), \"w\") as f_success:\n",
    "    with open(os.path.join(output_path, f\"{dataset_title}_report-error.txt\"), \"w\") as f_error:\n",
    "        for time in tqdm(range(t_start, xyzt_dims[-1]), # TODO Ariel changed to start from >0 timestep\n",
    "                 total=xyzt_dims[-1] - t_start, desc=\"time\"):\n",
    "            correct_flag = False\n",
    "            retries = 0\n",
    "            while not correct_flag and retries <= max_retries:\n",
    "                retries += 1\n",
    "\n",
    "                # Update cube_coords with the time.\n",
    "                cube_coords_time = [(x, y, z, time) for x, y, z in cube_coords]\n",
    "\n",
    "                results = []\n",
    "                try:\n",
    "                    with ProcessPoolExecutor(num_workers) as executor:\n",
    "                        # Removed suppress_stderr()\n",
    "                        for result in executor.map(process_cube, cube_coords_time):\n",
    "                            results.append(result)\n",
    "                            current_time_pbar.update(1)\n",
    "\n",
    "                            if \"error processing cube\" in result:\n",
    "                                break\n",
    "\n",
    "                    # Reset the chunk progress bar.\n",
    "                    current_time_pbar.reset()\n",
    "\n",
    "                    print('\\r' + ' ' * 100 + '\\r', end='', flush=True)\n",
    "                    if any([\"error processing cube\" in message for message in results]) or results == []:\n",
    "                        if retries > max_retries:\n",
    "                            output_str = f\"error consolidating data for time = {time}\\n\"\n",
    "                            f_error.write(output_str)\n",
    "                            f_error.flush()\n",
    "\n",
    "                            print(f\"\\rerror consolidating data for time = {time}\", end='')\n",
    "                        else:\n",
    "                            print(f\"\\rretrying (n = {retries}) time = {time}\", end='')\n",
    "                            continue\n",
    "                    else:\n",
    "                        output_str = f\"successfully consolidated data for time = {time}\\n\"\n",
    "                        f_success.write(output_str)\n",
    "                        f_success.flush()\n",
    "\n",
    "                        print(f\"\\rsuccessfully consolidated data for time = {time}\", end='')\n",
    "\n",
    "                        correct_flag = True\n",
    "                except Exception as e:\n",
    "                    tb = traceback.format_exc()\n",
    "                    print('\\r' + ' ' * 100 + '\\r', end='', flush=True)\n",
    "\n",
    "                    # Reset the chunk progress bar.\n",
    "                    current_time_pbar.reset()\n",
    "\n",
    "                    error_message = f\"code exception when consolidating data for time = {time}: {type(e).__name__}, {e}\\n{tb}\\n\"\n",
    "                    f_error.write(error_message)\n",
    "                    f_error.flush()\n",
    "\n",
    "                    print(f\"\\rcode exception when consolidating data for time = {time}: {e}\", end='')\n",
    "                    if retries > max_retries:\n",
    "                        break\n",
    "                    else:\n",
    "                        print(f\"\\rretrying (n = {retries}) time = {time}\", end='')\n",
    "                        continue\n",
    "\n",
    "print('\\n-')\n",
    "print(\"completed zarr consolidation, check report files\")"
   ]
  },
  {
   "cell_type": "code",
   "execution_count": null,
   "id": "d00a55ea-1c9d-479e-a792-e98a241b0356",
   "metadata": {},
   "outputs": [],
   "source": []
  }
 ],
 "metadata": {
  "kernelspec": {
   "display_name": "Python 3.9 (py39)",
   "language": "python",
   "name": "py39"
  },
  "language_info": {
   "codemirror_mode": {
    "name": "ipython",
    "version": 3
   },
   "file_extension": ".py",
   "mimetype": "text/x-python",
   "name": "python",
   "nbconvert_exporter": "python",
   "pygments_lexer": "ipython3",
   "version": "3.9.13"
  }
 },
 "nbformat": 4,
 "nbformat_minor": 5
}
